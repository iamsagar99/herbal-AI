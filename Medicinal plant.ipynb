{
 "cells": [
  {
   "cell_type": "code",
   "execution_count": 1,
   "id": "315fa6a3",
   "metadata": {
    "execution": {
     "iopub.execute_input": "2023-10-15T05:50:39.426853Z",
     "iopub.status.busy": "2023-10-15T05:50:39.426549Z",
     "iopub.status.idle": "2023-10-15T05:50:47.601791Z",
     "shell.execute_reply": "2023-10-15T05:50:47.600843Z"
    },
    "papermill": {
     "duration": 8.182389,
     "end_time": "2023-10-15T05:50:47.603891",
     "exception": false,
     "start_time": "2023-10-15T05:50:39.421502",
     "status": "completed"
    },
    "tags": []
   },
   "outputs": [
    {
     "name": "stderr",
     "output_type": "stream",
     "text": [
      "/opt/conda/lib/python3.10/site-packages/scipy/__init__.py:146: UserWarning: A NumPy version >=1.16.5 and <1.23.0 is required for this version of SciPy (detected version 1.23.5\n",
      "  warnings.warn(f\"A NumPy version >={np_minversion} and <{np_maxversion}\"\n"
     ]
    }
   ],
   "source": [
    "import tensorflow as tf"
   ]
  },
  {
   "cell_type": "markdown",
   "id": "6d7592cb",
   "metadata": {
    "papermill": {
     "duration": 0.003275,
     "end_time": "2023-10-15T05:50:47.610877",
     "exception": false,
     "start_time": "2023-10-15T05:50:47.607602",
     "status": "completed"
    },
    "tags": []
   },
   "source": [
    "## Convert Images in directory into Dataset\n",
    "we can use `tf.keras.preprocessing.image_dataset_from_directory` to convert the data into dataset so we can train the models out of the box"
   ]
  },
  {
   "cell_type": "code",
   "execution_count": 2,
   "id": "4c7d2db6",
   "metadata": {
    "execution": {
     "iopub.execute_input": "2023-10-15T05:50:47.618765Z",
     "iopub.status.busy": "2023-10-15T05:50:47.618287Z",
     "iopub.status.idle": "2023-10-15T05:50:53.366871Z",
     "shell.execute_reply": "2023-10-15T05:50:53.366019Z"
    },
    "papermill": {
     "duration": 5.754563,
     "end_time": "2023-10-15T05:50:53.368670",
     "exception": false,
     "start_time": "2023-10-15T05:50:47.614107",
     "status": "completed"
    },
    "tags": []
   },
   "outputs": [
    {
     "name": "stdout",
     "output_type": "stream",
     "text": [
      "Found 6900 files belonging to 80 classes.\n"
     ]
    },
    {
     "data": {
      "text/plain": [
       "['Aloevera',\n",
       " 'Amla',\n",
       " 'Amruthaballi',\n",
       " 'Arali',\n",
       " 'Astma_weed',\n",
       " 'Badipala',\n",
       " 'Balloon_Vine',\n",
       " 'Bamboo',\n",
       " 'Beans',\n",
       " 'Betel',\n",
       " 'Bhrami',\n",
       " 'Bringaraja',\n",
       " 'Caricature',\n",
       " 'Castor',\n",
       " 'Catharanthus',\n",
       " 'Chakte',\n",
       " 'Chilly',\n",
       " 'Citron lime (herelikai)',\n",
       " 'Coffee',\n",
       " 'Common rue(naagdalli)',\n",
       " 'Coriender',\n",
       " 'Curry',\n",
       " 'Doddpathre',\n",
       " 'Drumstick',\n",
       " 'Ekka',\n",
       " 'Eucalyptus',\n",
       " 'Ganigale',\n",
       " 'Ganike',\n",
       " 'Gasagase',\n",
       " 'Ginger',\n",
       " 'Globe Amarnath',\n",
       " 'Guava',\n",
       " 'Henna',\n",
       " 'Hibiscus',\n",
       " 'Honge',\n",
       " 'Insulin',\n",
       " 'Jackfruit',\n",
       " 'Jasmine',\n",
       " 'Kambajala',\n",
       " 'Kasambruga',\n",
       " 'Kohlrabi',\n",
       " 'Lantana',\n",
       " 'Lemon',\n",
       " 'Lemongrass',\n",
       " 'Malabar_Nut',\n",
       " 'Malabar_Spinach',\n",
       " 'Mango',\n",
       " 'Marigold',\n",
       " 'Mint',\n",
       " 'Neem',\n",
       " 'Nelavembu',\n",
       " 'Nerale',\n",
       " 'Nooni',\n",
       " 'Onion',\n",
       " 'Padri',\n",
       " 'Palak(Spinach)',\n",
       " 'Papaya',\n",
       " 'Parijatha',\n",
       " 'Pea',\n",
       " 'Pepper',\n",
       " 'Pomoegranate',\n",
       " 'Pumpkin',\n",
       " 'Raddish',\n",
       " 'Rose',\n",
       " 'Sampige',\n",
       " 'Sapota',\n",
       " 'Seethaashoka',\n",
       " 'Seethapala',\n",
       " 'Spinach1',\n",
       " 'Tamarind',\n",
       " 'Taro',\n",
       " 'Tecoma',\n",
       " 'Thumbe',\n",
       " 'Tomato',\n",
       " 'Tulsi',\n",
       " 'Turmeric',\n",
       " 'ashoka',\n",
       " 'camphor',\n",
       " 'kamakasturi',\n",
       " 'kepala']"
      ]
     },
     "execution_count": 2,
     "metadata": {},
     "output_type": "execute_result"
    }
   ],
   "source": [
    "dataset = tf.keras.preprocessing.image_dataset_from_directory(\n",
    "    \"/kaggle/input/indian-medicinal-leaves-dataset/Indian Medicinal Leaves Image Datasets/Medicinal Leaf dataset\",\n",
    "    shuffle=True,\n",
    "    batch_size=32,\n",
    "    image_size=(299, 299),\n",
    ")\n",
    "\n",
    "labels = dataset.class_names\n",
    "labels"
   ]
  },
  {
   "cell_type": "code",
   "execution_count": 3,
   "id": "c810b3c9",
   "metadata": {
    "execution": {
     "iopub.execute_input": "2023-10-15T05:50:53.377030Z",
     "iopub.status.busy": "2023-10-15T05:50:53.376772Z",
     "iopub.status.idle": "2023-10-15T05:51:03.627392Z",
     "shell.execute_reply": "2023-10-15T05:51:03.626395Z"
    },
    "papermill": {
     "duration": 10.257006,
     "end_time": "2023-10-15T05:51:03.629412",
     "exception": false,
     "start_time": "2023-10-15T05:50:53.372406",
     "status": "completed"
    },
    "tags": []
   },
   "outputs": [
    {
     "name": "stdout",
     "output_type": "stream",
     "text": [
      "(32, 299, 299, 3)\n",
      "[56 57 51  0 70 45  5 70 56 20 19  4 34 29 14 67 74 33  9  3 25 69 69 68\n",
      " 47  0 25 69 60 55 14 55]\n"
     ]
    }
   ],
   "source": [
    "import numpy as np\n",
    "\n",
    "for image_batch, labels_batch in dataset.take(1):\n",
    "    print(image_batch.shape)\n",
    "    print(labels_batch.numpy())\n",
    "    break"
   ]
  },
  {
   "cell_type": "code",
   "execution_count": 4,
   "id": "3fdd2180",
   "metadata": {
    "execution": {
     "iopub.execute_input": "2023-10-15T05:51:03.637999Z",
     "iopub.status.busy": "2023-10-15T05:51:03.637735Z",
     "iopub.status.idle": "2023-10-15T05:51:03.644879Z",
     "shell.execute_reply": "2023-10-15T05:51:03.644032Z"
    },
    "papermill": {
     "duration": 0.013317,
     "end_time": "2023-10-15T05:51:03.646632",
     "exception": false,
     "start_time": "2023-10-15T05:51:03.633315",
     "status": "completed"
    },
    "tags": []
   },
   "outputs": [
    {
     "data": {
      "text/plain": [
       "(172, 43)"
      ]
     },
     "execution_count": 4,
     "metadata": {},
     "output_type": "execute_result"
    }
   ],
   "source": [
    "# train test split\n",
    "train_size = int(0.8 * len(dataset))\n",
    "test_size = int(0.2 * len(dataset))\n",
    "train_size, test_size"
   ]
  },
  {
   "cell_type": "markdown",
   "id": "c291bebc",
   "metadata": {
    "papermill": {
     "duration": 0.0034,
     "end_time": "2023-10-15T05:51:03.654073",
     "exception": false,
     "start_time": "2023-10-15T05:51:03.650673",
     "status": "completed"
    },
    "tags": []
   },
   "source": [
    "## Train, Test, Validate\n",
    "partition the data into train test and validation datasets"
   ]
  },
  {
   "cell_type": "code",
   "execution_count": 5,
   "id": "3db922e9",
   "metadata": {
    "execution": {
     "iopub.execute_input": "2023-10-15T05:51:03.662806Z",
     "iopub.status.busy": "2023-10-15T05:51:03.662263Z",
     "iopub.status.idle": "2023-10-15T05:51:03.667916Z",
     "shell.execute_reply": "2023-10-15T05:51:03.667159Z"
    },
    "papermill": {
     "duration": 0.011695,
     "end_time": "2023-10-15T05:51:03.669555",
     "exception": false,
     "start_time": "2023-10-15T05:51:03.657860",
     "status": "completed"
    },
    "tags": []
   },
   "outputs": [],
   "source": [
    "def get_dataset_partisions_tf(ds, train_split=0.8, test_split=0.2, shuffle=True, shuffle_size=10000):\n",
    "    if shuffle:\n",
    "        ds = ds.shuffle(shuffle_size, seed=12)\n",
    "    train_size = int(train_split * len(ds))\n",
    "    test_size = int(test_split * len(ds))\n",
    "    train_ds = ds.take(train_size)\n",
    "    test_ds = ds.skip(train_size)\n",
    "    val_ds = test_ds.skip(test_size)\n",
    "    test_ds = test_ds.take(test_size)\n",
    "    return train_ds, test_ds, val_ds"
   ]
  },
  {
   "cell_type": "code",
   "execution_count": 6,
   "id": "4da4ef99",
   "metadata": {
    "execution": {
     "iopub.execute_input": "2023-10-15T05:51:03.677629Z",
     "iopub.status.busy": "2023-10-15T05:51:03.677396Z",
     "iopub.status.idle": "2023-10-15T05:51:03.690247Z",
     "shell.execute_reply": "2023-10-15T05:51:03.689392Z"
    },
    "papermill": {
     "duration": 0.018826,
     "end_time": "2023-10-15T05:51:03.691907",
     "exception": false,
     "start_time": "2023-10-15T05:51:03.673081",
     "status": "completed"
    },
    "tags": []
   },
   "outputs": [
    {
     "data": {
      "text/plain": [
       "(172, 43, 1)"
      ]
     },
     "execution_count": 6,
     "metadata": {},
     "output_type": "execute_result"
    }
   ],
   "source": [
    "train_ds, test_ds, val_ds = get_dataset_partisions_tf(dataset)\n",
    "len(train_ds), len(test_ds), len(val_ds)"
   ]
  },
  {
   "cell_type": "markdown",
   "id": "caee05cd",
   "metadata": {
    "papermill": {
     "duration": 0.007512,
     "end_time": "2023-10-15T05:51:03.707834",
     "exception": false,
     "start_time": "2023-10-15T05:51:03.700322",
     "status": "completed"
    },
    "tags": []
   },
   "source": [
    "## Resize and Normalize\n",
    "- Xception models takes the image input as 299x299 pixels so converting into the trainable format is necessary\n",
    "- The Images are to be normalized before to train accurately and efficiently"
   ]
  },
  {
   "cell_type": "code",
   "execution_count": 7,
   "id": "8f3248ca",
   "metadata": {
    "execution": {
     "iopub.execute_input": "2023-10-15T05:51:03.716955Z",
     "iopub.status.busy": "2023-10-15T05:51:03.716706Z",
     "iopub.status.idle": "2023-10-15T05:51:03.733167Z",
     "shell.execute_reply": "2023-10-15T05:51:03.732350Z"
    },
    "papermill": {
     "duration": 0.022736,
     "end_time": "2023-10-15T05:51:03.734966",
     "exception": false,
     "start_time": "2023-10-15T05:51:03.712230",
     "status": "completed"
    },
    "tags": []
   },
   "outputs": [],
   "source": [
    "resize_and_rescale = tf.keras.Sequential([\n",
    "    tf.keras.layers.experimental.preprocessing.Resizing(299, 299),\n",
    "    tf.keras.layers.experimental.preprocessing.Rescaling(1./255)\n",
    "])"
   ]
  },
  {
   "cell_type": "markdown",
   "id": "e7d8a6a4",
   "metadata": {
    "papermill": {
     "duration": 0.003609,
     "end_time": "2023-10-15T05:51:03.742315",
     "exception": false,
     "start_time": "2023-10-15T05:51:03.738706",
     "status": "completed"
    },
    "tags": []
   },
   "source": [
    "### Download the Xception model predefined weights from tensorflow into your working environment"
   ]
  },
  {
   "cell_type": "code",
   "execution_count": 8,
   "id": "a6ccfb60",
   "metadata": {
    "execution": {
     "iopub.execute_input": "2023-10-15T05:51:03.750584Z",
     "iopub.status.busy": "2023-10-15T05:51:03.750335Z",
     "iopub.status.idle": "2023-10-15T05:51:05.645481Z",
     "shell.execute_reply": "2023-10-15T05:51:05.644563Z"
    },
    "papermill": {
     "duration": 1.901883,
     "end_time": "2023-10-15T05:51:05.647794",
     "exception": false,
     "start_time": "2023-10-15T05:51:03.745911",
     "status": "completed"
    },
    "tags": []
   },
   "outputs": [
    {
     "name": "stdout",
     "output_type": "stream",
     "text": [
      "Downloading data from https://storage.googleapis.com/tensorflow/keras-applications/xception/xception_weights_tf_dim_ordering_tf_kernels_notop.h5\n",
      "83683744/83683744 [==============================] - 0s 0us/step\n"
     ]
    }
   ],
   "source": [
    "# train using Xception\n",
    "base_model = tf.keras.applications.Xception(\n",
    "    weights='imagenet',\n",
    "    input_shape=(299, 299, 3),\n",
    "    include_top=False,\n",
    "    pooling='avg',\n",
    "    classifier_activation='softmax',\n",
    "    classes=len(labels)\n",
    ")"
   ]
  },
  {
   "cell_type": "code",
   "execution_count": 9,
   "id": "61a04407",
   "metadata": {
    "execution": {
     "iopub.execute_input": "2023-10-15T05:51:05.658097Z",
     "iopub.status.busy": "2023-10-15T05:51:05.657801Z",
     "iopub.status.idle": "2023-10-15T09:12:20.496931Z",
     "shell.execute_reply": "2023-10-15T09:12:20.495937Z"
    },
    "papermill": {
     "duration": 12074.847144,
     "end_time": "2023-10-15T09:12:20.499349",
     "exception": false,
     "start_time": "2023-10-15T05:51:05.652205",
     "status": "completed"
    },
    "tags": []
   },
   "outputs": [
    {
     "name": "stdout",
     "output_type": "stream",
     "text": [
      "Model: \"model\"\n",
      "_________________________________________________________________\n",
      " Layer (type)                Output Shape              Param #   \n",
      "=================================================================\n",
      " input_2 (InputLayer)        [(None, 299, 299, 3)]     0         \n",
      "                                                                 \n",
      " sequential (Sequential)     (None, 299, 299, 3)       0         \n",
      "                                                                 \n",
      " xception (Functional)       (None, 2048)              20861480  \n",
      "                                                                 \n",
      " dense (Dense)               (None, 128)               262272    \n",
      "                                                                 \n",
      " dropout (Dropout)           (None, 128)               0         \n",
      "                                                                 \n",
      " dense_1 (Dense)             (None, 80)                10320     \n",
      "                                                                 \n",
      "=================================================================\n",
      "Total params: 21,134,072\n",
      "Trainable params: 272,592\n",
      "Non-trainable params: 20,861,480\n",
      "_________________________________________________________________\n",
      "Epoch 1/25\n"
     ]
    },
    {
     "name": "stderr",
     "output_type": "stream",
     "text": [
      "Corrupt JPEG data: premature end of data segment\n",
      "Corrupt JPEG data: 445 extraneous bytes before marker 0xd9\n",
      "Corrupt JPEG data: premature end of data segment\n"
     ]
    },
    {
     "name": "stdout",
     "output_type": "stream",
     "text": [
      "172/172 [==============================] - ETA: 0s - loss: 3.2983 - accuracy: 0.2431"
     ]
    },
    {
     "name": "stderr",
     "output_type": "stream",
     "text": [
      "Corrupt JPEG data: premature end of data segment\n",
      "Corrupt JPEG data: 445 extraneous bytes before marker 0xd9\n",
      "Corrupt JPEG data: premature end of data segment\n"
     ]
    },
    {
     "name": "stdout",
     "output_type": "stream",
     "text": [
      "172/172 [==============================] - 505s 1s/step - loss: 3.2983 - accuracy: 0.2431 - val_loss: 2.4025 - val_accuracy: 0.4688\n",
      "Epoch 2/25\n"
     ]
    },
    {
     "name": "stderr",
     "output_type": "stream",
     "text": [
      "Corrupt JPEG data: premature end of data segment\n",
      "Corrupt JPEG data: 445 extraneous bytes before marker 0xd9\n",
      "Corrupt JPEG data: premature end of data segment\n"
     ]
    },
    {
     "name": "stdout",
     "output_type": "stream",
     "text": [
      "172/172 [==============================] - ETA: 0s - loss: 1.9055 - accuracy: 0.5224"
     ]
    },
    {
     "name": "stderr",
     "output_type": "stream",
     "text": [
      "Corrupt JPEG data: premature end of data segment\n",
      "Corrupt JPEG data: 445 extraneous bytes before marker 0xd9\n",
      "Corrupt JPEG data: premature end of data segment\n"
     ]
    },
    {
     "name": "stdout",
     "output_type": "stream",
     "text": [
      "172/172 [==============================] - 512s 2s/step - loss: 1.9055 - accuracy: 0.5224 - val_loss: 1.4044 - val_accuracy: 0.6250\n",
      "Epoch 3/25\n"
     ]
    },
    {
     "name": "stderr",
     "output_type": "stream",
     "text": [
      "Corrupt JPEG data: premature end of data segment\n",
      "Corrupt JPEG data: 445 extraneous bytes before marker 0xd9\n",
      "Corrupt JPEG data: premature end of data segment\n"
     ]
    },
    {
     "name": "stdout",
     "output_type": "stream",
     "text": [
      "172/172 [==============================] - ETA: 0s - loss: 1.3483 - accuracy: 0.6540"
     ]
    },
    {
     "name": "stderr",
     "output_type": "stream",
     "text": [
      "Corrupt JPEG data: premature end of data segment\n",
      "Corrupt JPEG data: 445 extraneous bytes before marker 0xd9\n",
      "Corrupt JPEG data: premature end of data segment\n"
     ]
    },
    {
     "name": "stdout",
     "output_type": "stream",
     "text": [
      "172/172 [==============================] - 482s 1s/step - loss: 1.3483 - accuracy: 0.6540 - val_loss: 0.6781 - val_accuracy: 0.8750\n",
      "Epoch 4/25\n"
     ]
    },
    {
     "name": "stderr",
     "output_type": "stream",
     "text": [
      "Corrupt JPEG data: premature end of data segment\n",
      "Corrupt JPEG data: 445 extraneous bytes before marker 0xd9\n",
      "Corrupt JPEG data: premature end of data segment\n"
     ]
    },
    {
     "name": "stdout",
     "output_type": "stream",
     "text": [
      "172/172 [==============================] - ETA: 0s - loss: 1.0454 - accuracy: 0.7240"
     ]
    },
    {
     "name": "stderr",
     "output_type": "stream",
     "text": [
      "Corrupt JPEG data: premature end of data segment\n",
      "Corrupt JPEG data: 445 extraneous bytes before marker 0xd9\n",
      "Corrupt JPEG data: premature end of data segment\n"
     ]
    },
    {
     "name": "stdout",
     "output_type": "stream",
     "text": [
      "172/172 [==============================] - 478s 1s/step - loss: 1.0454 - accuracy: 0.7240 - val_loss: 0.7287 - val_accuracy: 0.8750\n",
      "Epoch 5/25\n"
     ]
    },
    {
     "name": "stderr",
     "output_type": "stream",
     "text": [
      "Corrupt JPEG data: premature end of data segment\n",
      "Corrupt JPEG data: 445 extraneous bytes before marker 0xd9\n",
      "Corrupt JPEG data: premature end of data segment\n"
     ]
    },
    {
     "name": "stdout",
     "output_type": "stream",
     "text": [
      "172/172 [==============================] - ETA: 0s - loss: 0.8437 - accuracy: 0.7779"
     ]
    },
    {
     "name": "stderr",
     "output_type": "stream",
     "text": [
      "Corrupt JPEG data: premature end of data segment\n",
      "Corrupt JPEG data: 445 extraneous bytes before marker 0xd9\n",
      "Corrupt JPEG data: premature end of data segment\n"
     ]
    },
    {
     "name": "stdout",
     "output_type": "stream",
     "text": [
      "172/172 [==============================] - 482s 1s/step - loss: 0.8437 - accuracy: 0.7779 - val_loss: 0.4501 - val_accuracy: 0.9062\n",
      "Epoch 6/25\n"
     ]
    },
    {
     "name": "stderr",
     "output_type": "stream",
     "text": [
      "Corrupt JPEG data: premature end of data segment\n",
      "Corrupt JPEG data: 445 extraneous bytes before marker 0xd9\n",
      "Corrupt JPEG data: premature end of data segment\n"
     ]
    },
    {
     "name": "stdout",
     "output_type": "stream",
     "text": [
      "172/172 [==============================] - ETA: 0s - loss: 0.6988 - accuracy: 0.8190"
     ]
    },
    {
     "name": "stderr",
     "output_type": "stream",
     "text": [
      "Corrupt JPEG data: premature end of data segment\n",
      "Corrupt JPEG data: 445 extraneous bytes before marker 0xd9\n",
      "Corrupt JPEG data: premature end of data segment\n"
     ]
    },
    {
     "name": "stdout",
     "output_type": "stream",
     "text": [
      "172/172 [==============================] - 477s 1s/step - loss: 0.6988 - accuracy: 0.8190 - val_loss: 0.4640 - val_accuracy: 0.9688\n",
      "Epoch 7/25\n"
     ]
    },
    {
     "name": "stderr",
     "output_type": "stream",
     "text": [
      "Corrupt JPEG data: premature end of data segment\n",
      "Corrupt JPEG data: 445 extraneous bytes before marker 0xd9\n",
      "Corrupt JPEG data: premature end of data segment\n"
     ]
    },
    {
     "name": "stdout",
     "output_type": "stream",
     "text": [
      "172/172 [==============================] - ETA: 0s - loss: 0.5916 - accuracy: 0.8474"
     ]
    },
    {
     "name": "stderr",
     "output_type": "stream",
     "text": [
      "Corrupt JPEG data: premature end of data segment\n",
      "Corrupt JPEG data: 445 extraneous bytes before marker 0xd9\n",
      "Corrupt JPEG data: premature end of data segment\n"
     ]
    },
    {
     "name": "stdout",
     "output_type": "stream",
     "text": [
      "172/172 [==============================] - 477s 1s/step - loss: 0.5916 - accuracy: 0.8474 - val_loss: 0.2070 - val_accuracy: 1.0000\n",
      "Epoch 8/25\n"
     ]
    },
    {
     "name": "stderr",
     "output_type": "stream",
     "text": [
      "Corrupt JPEG data: premature end of data segment\n",
      "Corrupt JPEG data: 445 extraneous bytes before marker 0xd9\n",
      "Corrupt JPEG data: premature end of data segment\n"
     ]
    },
    {
     "name": "stdout",
     "output_type": "stream",
     "text": [
      "172/172 [==============================] - ETA: 0s - loss: 0.5072 - accuracy: 0.8671"
     ]
    },
    {
     "name": "stderr",
     "output_type": "stream",
     "text": [
      "Corrupt JPEG data: premature end of data segment\n",
      "Corrupt JPEG data: 445 extraneous bytes before marker 0xd9\n",
      "Corrupt JPEG data: premature end of data segment\n"
     ]
    },
    {
     "name": "stdout",
     "output_type": "stream",
     "text": [
      "172/172 [==============================] - 480s 1s/step - loss: 0.5072 - accuracy: 0.8671 - val_loss: 0.2206 - val_accuracy: 0.9688\n",
      "Epoch 9/25\n"
     ]
    },
    {
     "name": "stderr",
     "output_type": "stream",
     "text": [
      "Corrupt JPEG data: premature end of data segment\n",
      "Corrupt JPEG data: 445 extraneous bytes before marker 0xd9\n",
      "Corrupt JPEG data: premature end of data segment\n"
     ]
    },
    {
     "name": "stdout",
     "output_type": "stream",
     "text": [
      "172/172 [==============================] - ETA: 0s - loss: 0.4384 - accuracy: 0.8895"
     ]
    },
    {
     "name": "stderr",
     "output_type": "stream",
     "text": [
      "Corrupt JPEG data: premature end of data segment\n",
      "Corrupt JPEG data: 445 extraneous bytes before marker 0xd9\n",
      "Corrupt JPEG data: premature end of data segment\n"
     ]
    },
    {
     "name": "stdout",
     "output_type": "stream",
     "text": [
      "172/172 [==============================] - 465s 1s/step - loss: 0.4384 - accuracy: 0.8895 - val_loss: 0.1086 - val_accuracy: 1.0000\n",
      "Epoch 10/25\n"
     ]
    },
    {
     "name": "stderr",
     "output_type": "stream",
     "text": [
      "Corrupt JPEG data: premature end of data segment\n",
      "Corrupt JPEG data: 445 extraneous bytes before marker 0xd9\n",
      "Corrupt JPEG data: premature end of data segment\n"
     ]
    },
    {
     "name": "stdout",
     "output_type": "stream",
     "text": [
      "172/172 [==============================] - ETA: 0s - loss: 0.3739 - accuracy: 0.9102"
     ]
    },
    {
     "name": "stderr",
     "output_type": "stream",
     "text": [
      "Corrupt JPEG data: premature end of data segment\n",
      "Corrupt JPEG data: 445 extraneous bytes before marker 0xd9\n",
      "Corrupt JPEG data: premature end of data segment\n"
     ]
    },
    {
     "name": "stdout",
     "output_type": "stream",
     "text": [
      "172/172 [==============================] - 474s 1s/step - loss: 0.3739 - accuracy: 0.9102 - val_loss: 0.1462 - val_accuracy: 1.0000\n",
      "Epoch 11/25\n"
     ]
    },
    {
     "name": "stderr",
     "output_type": "stream",
     "text": [
      "Corrupt JPEG data: premature end of data segment\n",
      "Corrupt JPEG data: 445 extraneous bytes before marker 0xd9\n",
      "Corrupt JPEG data: premature end of data segment\n"
     ]
    },
    {
     "name": "stdout",
     "output_type": "stream",
     "text": [
      "172/172 [==============================] - ETA: 0s - loss: 0.3458 - accuracy: 0.9139"
     ]
    },
    {
     "name": "stderr",
     "output_type": "stream",
     "text": [
      "Corrupt JPEG data: premature end of data segment\n",
      "Corrupt JPEG data: 445 extraneous bytes before marker 0xd9\n",
      "Corrupt JPEG data: premature end of data segment\n"
     ]
    },
    {
     "name": "stdout",
     "output_type": "stream",
     "text": [
      "172/172 [==============================] - 511s 2s/step - loss: 0.3458 - accuracy: 0.9139 - val_loss: 0.2126 - val_accuracy: 0.9688\n",
      "Epoch 12/25\n"
     ]
    },
    {
     "name": "stderr",
     "output_type": "stream",
     "text": [
      "Corrupt JPEG data: premature end of data segment\n",
      "Corrupt JPEG data: 445 extraneous bytes before marker 0xd9\n",
      "Corrupt JPEG data: premature end of data segment\n"
     ]
    },
    {
     "name": "stdout",
     "output_type": "stream",
     "text": [
      "172/172 [==============================] - ETA: 0s - loss: 0.2974 - accuracy: 0.9253"
     ]
    },
    {
     "name": "stderr",
     "output_type": "stream",
     "text": [
      "Corrupt JPEG data: premature end of data segment\n",
      "Corrupt JPEG data: 445 extraneous bytes before marker 0xd9\n",
      "Corrupt JPEG data: premature end of data segment\n"
     ]
    },
    {
     "name": "stdout",
     "output_type": "stream",
     "text": [
      "172/172 [==============================] - 472s 1s/step - loss: 0.2974 - accuracy: 0.9253 - val_loss: 0.1037 - val_accuracy: 1.0000\n",
      "Epoch 13/25\n"
     ]
    },
    {
     "name": "stderr",
     "output_type": "stream",
     "text": [
      "Corrupt JPEG data: premature end of data segment\n",
      "Corrupt JPEG data: 445 extraneous bytes before marker 0xd9\n",
      "Corrupt JPEG data: premature end of data segment\n"
     ]
    },
    {
     "name": "stdout",
     "output_type": "stream",
     "text": [
      "172/172 [==============================] - ETA: 0s - loss: 0.2607 - accuracy: 0.9337"
     ]
    },
    {
     "name": "stderr",
     "output_type": "stream",
     "text": [
      "Corrupt JPEG data: premature end of data segment\n",
      "Corrupt JPEG data: 445 extraneous bytes before marker 0xd9\n",
      "Corrupt JPEG data: premature end of data segment\n"
     ]
    },
    {
     "name": "stdout",
     "output_type": "stream",
     "text": [
      "172/172 [==============================] - 512s 2s/step - loss: 0.2607 - accuracy: 0.9337 - val_loss: 0.0863 - val_accuracy: 1.0000\n",
      "Epoch 14/25\n"
     ]
    },
    {
     "name": "stderr",
     "output_type": "stream",
     "text": [
      "Corrupt JPEG data: premature end of data segment\n",
      "Corrupt JPEG data: 445 extraneous bytes before marker 0xd9\n",
      "Corrupt JPEG data: premature end of data segment\n"
     ]
    },
    {
     "name": "stdout",
     "output_type": "stream",
     "text": [
      "172/172 [==============================] - ETA: 0s - loss: 0.2405 - accuracy: 0.9437"
     ]
    },
    {
     "name": "stderr",
     "output_type": "stream",
     "text": [
      "Corrupt JPEG data: premature end of data segment\n",
      "Corrupt JPEG data: 445 extraneous bytes before marker 0xd9\n",
      "Corrupt JPEG data: premature end of data segment\n"
     ]
    },
    {
     "name": "stdout",
     "output_type": "stream",
     "text": [
      "172/172 [==============================] - 480s 1s/step - loss: 0.2405 - accuracy: 0.9437 - val_loss: 0.1252 - val_accuracy: 1.0000\n",
      "Epoch 15/25\n"
     ]
    },
    {
     "name": "stderr",
     "output_type": "stream",
     "text": [
      "Corrupt JPEG data: premature end of data segment\n",
      "Corrupt JPEG data: 445 extraneous bytes before marker 0xd9\n",
      "Corrupt JPEG data: premature end of data segment\n"
     ]
    },
    {
     "name": "stdout",
     "output_type": "stream",
     "text": [
      "172/172 [==============================] - ETA: 0s - loss: 0.2037 - accuracy: 0.9530"
     ]
    },
    {
     "name": "stderr",
     "output_type": "stream",
     "text": [
      "Corrupt JPEG data: premature end of data segment\n",
      "Corrupt JPEG data: 445 extraneous bytes before marker 0xd9\n",
      "Corrupt JPEG data: premature end of data segment\n"
     ]
    },
    {
     "name": "stdout",
     "output_type": "stream",
     "text": [
      "172/172 [==============================] - 478s 1s/step - loss: 0.2037 - accuracy: 0.9530 - val_loss: 0.0535 - val_accuracy: 1.0000\n",
      "Epoch 16/25\n"
     ]
    },
    {
     "name": "stderr",
     "output_type": "stream",
     "text": [
      "Corrupt JPEG data: premature end of data segment\n",
      "Corrupt JPEG data: 445 extraneous bytes before marker 0xd9\n",
      "Corrupt JPEG data: premature end of data segment\n"
     ]
    },
    {
     "name": "stdout",
     "output_type": "stream",
     "text": [
      "172/172 [==============================] - ETA: 0s - loss: 0.1826 - accuracy: 0.9576"
     ]
    },
    {
     "name": "stderr",
     "output_type": "stream",
     "text": [
      "Corrupt JPEG data: premature end of data segment\n",
      "Corrupt JPEG data: 445 extraneous bytes before marker 0xd9\n",
      "Corrupt JPEG data: premature end of data segment\n"
     ]
    },
    {
     "name": "stdout",
     "output_type": "stream",
     "text": [
      "172/172 [==============================] - 477s 1s/step - loss: 0.1826 - accuracy: 0.9576 - val_loss: 0.0370 - val_accuracy: 1.0000\n",
      "Epoch 17/25\n"
     ]
    },
    {
     "name": "stderr",
     "output_type": "stream",
     "text": [
      "Corrupt JPEG data: premature end of data segment\n",
      "Corrupt JPEG data: 445 extraneous bytes before marker 0xd9\n",
      "Corrupt JPEG data: premature end of data segment\n"
     ]
    },
    {
     "name": "stdout",
     "output_type": "stream",
     "text": [
      "172/172 [==============================] - ETA: 0s - loss: 0.1761 - accuracy: 0.9578"
     ]
    },
    {
     "name": "stderr",
     "output_type": "stream",
     "text": [
      "Corrupt JPEG data: premature end of data segment\n",
      "Corrupt JPEG data: 445 extraneous bytes before marker 0xd9\n",
      "Corrupt JPEG data: premature end of data segment\n"
     ]
    },
    {
     "name": "stdout",
     "output_type": "stream",
     "text": [
      "172/172 [==============================] - 468s 1s/step - loss: 0.1761 - accuracy: 0.9578 - val_loss: 0.0825 - val_accuracy: 0.9688\n",
      "Epoch 18/25\n"
     ]
    },
    {
     "name": "stderr",
     "output_type": "stream",
     "text": [
      "Corrupt JPEG data: premature end of data segment\n",
      "Corrupt JPEG data: 445 extraneous bytes before marker 0xd9\n",
      "Corrupt JPEG data: premature end of data segment\n"
     ]
    },
    {
     "name": "stdout",
     "output_type": "stream",
     "text": [
      "172/172 [==============================] - ETA: 0s - loss: 0.1487 - accuracy: 0.9675"
     ]
    },
    {
     "name": "stderr",
     "output_type": "stream",
     "text": [
      "Corrupt JPEG data: premature end of data segment\n",
      "Corrupt JPEG data: 445 extraneous bytes before marker 0xd9\n",
      "Corrupt JPEG data: premature end of data segment\n"
     ]
    },
    {
     "name": "stdout",
     "output_type": "stream",
     "text": [
      "172/172 [==============================] - 477s 1s/step - loss: 0.1487 - accuracy: 0.9675 - val_loss: 0.0540 - val_accuracy: 1.0000\n",
      "Epoch 19/25\n"
     ]
    },
    {
     "name": "stderr",
     "output_type": "stream",
     "text": [
      "Corrupt JPEG data: premature end of data segment\n",
      "Corrupt JPEG data: 445 extraneous bytes before marker 0xd9\n",
      "Corrupt JPEG data: premature end of data segment\n"
     ]
    },
    {
     "name": "stdout",
     "output_type": "stream",
     "text": [
      "172/172 [==============================] - ETA: 0s - loss: 0.1373 - accuracy: 0.9692"
     ]
    },
    {
     "name": "stderr",
     "output_type": "stream",
     "text": [
      "Corrupt JPEG data: premature end of data segment\n",
      "Corrupt JPEG data: 445 extraneous bytes before marker 0xd9\n",
      "Corrupt JPEG data: premature end of data segment\n"
     ]
    },
    {
     "name": "stdout",
     "output_type": "stream",
     "text": [
      "172/172 [==============================] - 478s 1s/step - loss: 0.1373 - accuracy: 0.9692 - val_loss: 0.0485 - val_accuracy: 1.0000\n",
      "Epoch 20/25\n"
     ]
    },
    {
     "name": "stderr",
     "output_type": "stream",
     "text": [
      "Corrupt JPEG data: premature end of data segment\n",
      "Corrupt JPEG data: 445 extraneous bytes before marker 0xd9\n",
      "Corrupt JPEG data: premature end of data segment\n"
     ]
    },
    {
     "name": "stdout",
     "output_type": "stream",
     "text": [
      "172/172 [==============================] - ETA: 0s - loss: 0.1272 - accuracy: 0.9716"
     ]
    },
    {
     "name": "stderr",
     "output_type": "stream",
     "text": [
      "Corrupt JPEG data: premature end of data segment\n",
      "Corrupt JPEG data: 445 extraneous bytes before marker 0xd9\n",
      "Corrupt JPEG data: premature end of data segment\n"
     ]
    },
    {
     "name": "stdout",
     "output_type": "stream",
     "text": [
      "172/172 [==============================] - 478s 1s/step - loss: 0.1272 - accuracy: 0.9716 - val_loss: 0.0817 - val_accuracy: 0.9688\n",
      "Epoch 21/25\n"
     ]
    },
    {
     "name": "stderr",
     "output_type": "stream",
     "text": [
      "Corrupt JPEG data: premature end of data segment\n",
      "Corrupt JPEG data: 445 extraneous bytes before marker 0xd9\n",
      "Corrupt JPEG data: premature end of data segment\n"
     ]
    },
    {
     "name": "stdout",
     "output_type": "stream",
     "text": [
      "172/172 [==============================] - ETA: 0s - loss: 0.1190 - accuracy: 0.9725"
     ]
    },
    {
     "name": "stderr",
     "output_type": "stream",
     "text": [
      "Corrupt JPEG data: premature end of data segment\n",
      "Corrupt JPEG data: 445 extraneous bytes before marker 0xd9\n",
      "Corrupt JPEG data: premature end of data segment\n"
     ]
    },
    {
     "name": "stdout",
     "output_type": "stream",
     "text": [
      "172/172 [==============================] - 469s 1s/step - loss: 0.1190 - accuracy: 0.9725 - val_loss: 0.0241 - val_accuracy: 1.0000\n",
      "Epoch 22/25\n"
     ]
    },
    {
     "name": "stderr",
     "output_type": "stream",
     "text": [
      "Corrupt JPEG data: premature end of data segment\n",
      "Corrupt JPEG data: 445 extraneous bytes before marker 0xd9\n",
      "Corrupt JPEG data: premature end of data segment\n"
     ]
    },
    {
     "name": "stdout",
     "output_type": "stream",
     "text": [
      "172/172 [==============================] - ETA: 0s - loss: 0.1074 - accuracy: 0.9751"
     ]
    },
    {
     "name": "stderr",
     "output_type": "stream",
     "text": [
      "Corrupt JPEG data: premature end of data segment\n",
      "Corrupt JPEG data: 445 extraneous bytes before marker 0xd9\n",
      "Corrupt JPEG data: premature end of data segment\n"
     ]
    },
    {
     "name": "stdout",
     "output_type": "stream",
     "text": [
      "172/172 [==============================] - 478s 1s/step - loss: 0.1074 - accuracy: 0.9751 - val_loss: 0.0246 - val_accuracy: 1.0000\n",
      "Epoch 23/25\n"
     ]
    },
    {
     "name": "stderr",
     "output_type": "stream",
     "text": [
      "Corrupt JPEG data: premature end of data segment\n",
      "Corrupt JPEG data: 445 extraneous bytes before marker 0xd9\n",
      "Corrupt JPEG data: premature end of data segment\n"
     ]
    },
    {
     "name": "stdout",
     "output_type": "stream",
     "text": [
      "172/172 [==============================] - ETA: 0s - loss: 0.0988 - accuracy: 0.9803"
     ]
    },
    {
     "name": "stderr",
     "output_type": "stream",
     "text": [
      "Corrupt JPEG data: premature end of data segment\n",
      "Corrupt JPEG data: 445 extraneous bytes before marker 0xd9\n",
      "Corrupt JPEG data: premature end of data segment\n"
     ]
    },
    {
     "name": "stdout",
     "output_type": "stream",
     "text": [
      "172/172 [==============================] - 481s 1s/step - loss: 0.0988 - accuracy: 0.9803 - val_loss: 0.0339 - val_accuracy: 1.0000\n",
      "Epoch 24/25\n"
     ]
    },
    {
     "name": "stderr",
     "output_type": "stream",
     "text": [
      "Corrupt JPEG data: premature end of data segment\n",
      "Corrupt JPEG data: 445 extraneous bytes before marker 0xd9\n",
      "Corrupt JPEG data: premature end of data segment\n"
     ]
    },
    {
     "name": "stdout",
     "output_type": "stream",
     "text": [
      "172/172 [==============================] - ETA: 0s - loss: 0.0906 - accuracy: 0.9823"
     ]
    },
    {
     "name": "stderr",
     "output_type": "stream",
     "text": [
      "Corrupt JPEG data: premature end of data segment\n",
      "Corrupt JPEG data: 445 extraneous bytes before marker 0xd9\n",
      "Corrupt JPEG data: premature end of data segment\n"
     ]
    },
    {
     "name": "stdout",
     "output_type": "stream",
     "text": [
      "172/172 [==============================] - 480s 1s/step - loss: 0.0906 - accuracy: 0.9823 - val_loss: 0.0412 - val_accuracy: 0.9688\n",
      "Epoch 25/25\n"
     ]
    },
    {
     "name": "stderr",
     "output_type": "stream",
     "text": [
      "Corrupt JPEG data: premature end of data segment\n",
      "Corrupt JPEG data: 445 extraneous bytes before marker 0xd9\n",
      "Corrupt JPEG data: premature end of data segment\n"
     ]
    },
    {
     "name": "stdout",
     "output_type": "stream",
     "text": [
      "172/172 [==============================] - ETA: 0s - loss: 0.0848 - accuracy: 0.9820"
     ]
    },
    {
     "name": "stderr",
     "output_type": "stream",
     "text": [
      "Corrupt JPEG data: premature end of data segment\n",
      "Corrupt JPEG data: 445 extraneous bytes before marker 0xd9\n",
      "Corrupt JPEG data: premature end of data segment\n"
     ]
    },
    {
     "name": "stdout",
     "output_type": "stream",
     "text": [
      "172/172 [==============================] - 471s 1s/step - loss: 0.0848 - accuracy: 0.9820 - val_loss: 0.0265 - val_accuracy: 1.0000\n"
     ]
    }
   ],
   "source": [
    "base_model.trainable = False\n",
    "\n",
    "inputs = tf.keras.Input(shape=(299, 299, 3))\n",
    "x = resize_and_rescale(inputs)\n",
    "x = base_model(x, training=False)\n",
    "x = tf.keras.layers.Dense(128, activation='relu')(x)\n",
    "x = tf.keras.layers.Dropout(0.2)(x)\n",
    "outputs = tf.keras.layers.Dense(len(labels), activation='softmax')(x)\n",
    "model = tf.keras.Model(inputs, outputs)\n",
    "\n",
    "model.compile(\n",
    "    optimizer='adam',\n",
    "    loss='sparse_categorical_crossentropy',\n",
    "    metrics=['accuracy']\n",
    ")\n",
    "\n",
    "model.summary()\n",
    "\n",
    "history = model.fit(\n",
    "    train_ds,\n",
    "    validation_data=val_ds,\n",
    "    batch_size=32,\n",
    "    epochs=25\n",
    ")"
   ]
  },
  {
   "cell_type": "code",
   "execution_count": 10,
   "id": "4c9d9c3b",
   "metadata": {
    "execution": {
     "iopub.execute_input": "2023-10-15T09:12:20.890867Z",
     "iopub.status.busy": "2023-10-15T09:12:20.890545Z",
     "iopub.status.idle": "2023-10-15T09:16:42.847564Z",
     "shell.execute_reply": "2023-10-15T09:16:42.846530Z"
    },
    "papermill": {
     "duration": 262.415156,
     "end_time": "2023-10-15T09:16:43.107507",
     "exception": false,
     "start_time": "2023-10-15T09:12:20.692351",
     "status": "completed"
    },
    "tags": []
   },
   "outputs": [
    {
     "name": "stderr",
     "output_type": "stream",
     "text": [
      "Corrupt JPEG data: premature end of data segment\n",
      "Corrupt JPEG data: 445 extraneous bytes before marker 0xd9\n",
      "Corrupt JPEG data: premature end of data segment\n"
     ]
    },
    {
     "name": "stdout",
     "output_type": "stream",
     "text": [
      "43/43 [==============================] - 233s 136ms/step - loss: 0.0195 - accuracy: 1.0000\n"
     ]
    },
    {
     "data": {
      "text/plain": [
       "[0.01948370411992073, 1.0]"
      ]
     },
     "execution_count": 10,
     "metadata": {},
     "output_type": "execute_result"
    }
   ],
   "source": [
    "model.evaluate(test_ds)"
   ]
  },
  {
   "cell_type": "code",
   "execution_count": 11,
   "id": "680aa795",
   "metadata": {
    "execution": {
     "iopub.execute_input": "2023-10-15T09:16:43.497136Z",
     "iopub.status.busy": "2023-10-15T09:16:43.496787Z",
     "iopub.status.idle": "2023-10-15T09:16:44.763744Z",
     "shell.execute_reply": "2023-10-15T09:16:44.762550Z"
    },
    "papermill": {
     "duration": 1.464962,
     "end_time": "2023-10-15T09:16:44.765519",
     "exception": false,
     "start_time": "2023-10-15T09:16:43.300557",
     "status": "completed"
    },
    "tags": []
   },
   "outputs": [
    {
     "name": "stdout",
     "output_type": "stream",
     "text": [
      "1/1 [==============================] - 1s 1s/step\n",
      "This image most likely belongs to Aloevera with a 71.77 percent confidence.\n"
     ]
    }
   ],
   "source": [
    "# predict with new images\n",
    "import numpy as np\n",
    "\n",
    "img = tf.keras.preprocessing.image.load_img(\n",
    "    '/kaggle/input/test-medicinal-leaves/alo.jpg', target_size=(299, 299)\n",
    ")\n",
    "img_array = tf.keras.preprocessing.image.img_to_array(img)\n",
    "img_array = tf.expand_dims(img_array, 0)  # Create a batch\n",
    "\n",
    "\n",
    "predictions = model.predict(img_array)\n",
    "score = tf.nn.sigmoid(predictions[0])\n",
    "print(\n",
    "    \"This image most likely belongs to {} with a {:.2f} percent confidence.\"\n",
    "    .format(labels[np.argmax(score)], 100 * np.max(score))\n",
    ")"
   ]
  },
  {
   "cell_type": "code",
   "execution_count": 12,
   "id": "5c7d35f2",
   "metadata": {
    "execution": {
     "iopub.execute_input": "2023-10-15T09:16:45.277046Z",
     "iopub.status.busy": "2023-10-15T09:16:45.276651Z",
     "iopub.status.idle": "2023-10-15T09:16:45.401996Z",
     "shell.execute_reply": "2023-10-15T09:16:45.401190Z"
    },
    "papermill": {
     "duration": 0.441265,
     "end_time": "2023-10-15T09:16:45.404536",
     "exception": false,
     "start_time": "2023-10-15T09:16:44.963271",
     "status": "completed"
    },
    "tags": []
   },
   "outputs": [
    {
     "name": "stdout",
     "output_type": "stream",
     "text": [
      "1/1 [==============================] - 0s 33ms/step\n",
      "This image most likely belongs to Bamboo with a 71.60 percent confidence.\n"
     ]
    }
   ],
   "source": [
    "# predict with new images\n",
    "import numpy as np\n",
    "\n",
    "img = tf.keras.preprocessing.image.load_img(\n",
    "    '/kaggle/input/test-medicinal-leaves/bamboo.jpeg', target_size=(299, 299)\n",
    ")\n",
    "img_array = tf.keras.preprocessing.image.img_to_array(img)\n",
    "img_array = tf.expand_dims(img_array, 0)  # Create a batch\n",
    "predictions = model.predict(img_array)\n",
    "score = tf.nn.sigmoid(predictions[0])\n",
    "print(\n",
    "    \"This image most likely belongs to {} with a {:.2f} percent confidence.\"\n",
    "    .format(labels[np.argmax(score)], 100 * np.max(score))\n",
    ")"
   ]
  },
  {
   "cell_type": "code",
   "execution_count": 13,
   "id": "ade42405",
   "metadata": {
    "execution": {
     "iopub.execute_input": "2023-10-15T09:16:46.189809Z",
     "iopub.status.busy": "2023-10-15T09:16:46.189266Z",
     "iopub.status.idle": "2023-10-15T09:16:46.314464Z",
     "shell.execute_reply": "2023-10-15T09:16:46.313692Z"
    },
    "papermill": {
     "duration": 0.522935,
     "end_time": "2023-10-15T09:16:46.316732",
     "exception": false,
     "start_time": "2023-10-15T09:16:45.793797",
     "status": "completed"
    },
    "tags": []
   },
   "outputs": [
    {
     "name": "stdout",
     "output_type": "stream",
     "text": [
      "1/1 [==============================] - 0s 32ms/step\n",
      "This image most likely belongs to Kambajala with a 65.65 percent confidence.\n"
     ]
    }
   ],
   "source": [
    "import numpy as np\n",
    "\n",
    "img = tf.keras.preprocessing.image.load_img(\n",
    "    '/kaggle/input/test-medicinal-leaves/betel-leaf-1024x1024.jpg', target_size=(299, 299)\n",
    ")\n",
    "img_array = tf.keras.preprocessing.image.img_to_array(img)\n",
    "img_array = tf.expand_dims(img_array, 0)  # Create a batch\n",
    "predictions = model.predict(img_array)\n",
    "score = tf.nn.sigmoid(predictions[0])\n",
    "print(\n",
    "    \"This image most likely belongs to {} with a {:.2f} percent confidence.\"\n",
    "    .format(labels[np.argmax(score)], 100 * np.max(score))\n",
    ")"
   ]
  },
  {
   "cell_type": "code",
   "execution_count": 14,
   "id": "ec693e18",
   "metadata": {
    "execution": {
     "iopub.execute_input": "2023-10-15T09:16:46.835797Z",
     "iopub.status.busy": "2023-10-15T09:16:46.835478Z",
     "iopub.status.idle": "2023-10-15T09:16:46.900788Z",
     "shell.execute_reply": "2023-10-15T09:16:46.899657Z"
    },
    "papermill": {
     "duration": 0.271505,
     "end_time": "2023-10-15T09:16:46.902577",
     "exception": false,
     "start_time": "2023-10-15T09:16:46.631072",
     "status": "completed"
    },
    "tags": []
   },
   "outputs": [
    {
     "name": "stdout",
     "output_type": "stream",
     "text": [
      "1/1 [==============================] - 0s 22ms/step\n",
      "This image most likely belongs to Bamboo with a 71.60 percent confidence.\n"
     ]
    }
   ],
   "source": [
    "import numpy as np\n",
    "\n",
    "img = tf.keras.preprocessing.image.load_img(\n",
    "    '/kaggle/input/test-medicinal-leaves/bamboo.jpeg', target_size=(299, 299)\n",
    ")\n",
    "img_array = tf.keras.preprocessing.image.img_to_array(img)\n",
    "img_array = tf.expand_dims(img_array, 0)  # Create a batch\n",
    "predictions = model.predict(img_array)\n",
    "score = tf.nn.sigmoid(predictions[0])\n",
    "print(\n",
    "    \"This image most likely belongs to {} with a {:.2f} percent confidence.\"\n",
    "    .format(labels[np.argmax(score)], 100 * np.max(score))\n",
    ")"
   ]
  },
  {
   "cell_type": "code",
   "execution_count": 15,
   "id": "a717d929",
   "metadata": {
    "execution": {
     "iopub.execute_input": "2023-10-15T09:16:47.305839Z",
     "iopub.status.busy": "2023-10-15T09:16:47.304983Z",
     "iopub.status.idle": "2023-10-15T09:16:47.514473Z",
     "shell.execute_reply": "2023-10-15T09:16:47.513552Z"
    },
    "papermill": {
     "duration": 0.408666,
     "end_time": "2023-10-15T09:16:47.516300",
     "exception": false,
     "start_time": "2023-10-15T09:16:47.107634",
     "status": "completed"
    },
    "tags": []
   },
   "outputs": [
    {
     "name": "stdout",
     "output_type": "stream",
     "text": [
      "1/1 [==============================] - 0s 22ms/step\n",
      "This image most likely belongs to Doddpathre with a 68.46 percent confidence.\n"
     ]
    }
   ],
   "source": [
    "import numpy as np\n",
    "\n",
    "img = tf.keras.preprocessing.image.load_img(\n",
    "    '/kaggle/input/test-medicinal-leaves/doddapatre.jpg', target_size=(299, 299)\n",
    ")\n",
    "img_array = tf.keras.preprocessing.image.img_to_array(img)\n",
    "img_array = tf.expand_dims(img_array, 0)  # Create a batch\n",
    "predictions = model.predict(img_array)\n",
    "score = tf.nn.sigmoid(predictions[0])\n",
    "print(\n",
    "    \"This image most likely belongs to {} with a {:.2f} percent confidence.\"\n",
    "    .format(labels[np.argmax(score)], 100 * np.max(score))\n",
    ")"
   ]
  },
  {
   "cell_type": "code",
   "execution_count": 16,
   "id": "8f38312a",
   "metadata": {
    "execution": {
     "iopub.execute_input": "2023-10-15T09:16:47.969079Z",
     "iopub.status.busy": "2023-10-15T09:16:47.967779Z",
     "iopub.status.idle": "2023-10-15T09:16:48.051879Z",
     "shell.execute_reply": "2023-10-15T09:16:48.051053Z"
    },
    "papermill": {
     "duration": 0.280386,
     "end_time": "2023-10-15T09:16:48.053579",
     "exception": false,
     "start_time": "2023-10-15T09:16:47.773193",
     "status": "completed"
    },
    "tags": []
   },
   "outputs": [
    {
     "name": "stdout",
     "output_type": "stream",
     "text": [
      "1/1 [==============================] - 0s 21ms/step\n",
      "This image most likely belongs to Tulsi with a 67.46 percent confidence.\n"
     ]
    }
   ],
   "source": [
    "import numpy as np\n",
    "\n",
    "img = tf.keras.preprocessing.image.load_img(\n",
    "    '/kaggle/input/test-medicinal-leaves/tulsi-leaves-t-cut-500x500.jpg.webp', target_size=(299, 299)\n",
    ")\n",
    "img_array = tf.keras.preprocessing.image.img_to_array(img)\n",
    "img_array = tf.expand_dims(img_array, 0)  # Create a batch\n",
    "predictions = model.predict(img_array)\n",
    "score = tf.nn.sigmoid(predictions[0])\n",
    "print(\n",
    "    \"This image most likely belongs to {} with a {:.2f} percent confidence.\"\n",
    "    .format(labels[np.argmax(score)], 100 * np.max(score))\n",
    ")"
   ]
  },
  {
   "cell_type": "code",
   "execution_count": 17,
   "id": "2a2a7670",
   "metadata": {
    "execution": {
     "iopub.execute_input": "2023-10-15T09:16:48.458349Z",
     "iopub.status.busy": "2023-10-15T09:16:48.457697Z",
     "iopub.status.idle": "2023-10-15T09:16:48.749167Z",
     "shell.execute_reply": "2023-10-15T09:16:48.748314Z"
    },
    "papermill": {
     "duration": 0.498969,
     "end_time": "2023-10-15T09:16:48.750936",
     "exception": false,
     "start_time": "2023-10-15T09:16:48.251967",
     "status": "completed"
    },
    "tags": []
   },
   "outputs": [
    {
     "data": {
      "image/png": "[encoded data removed]",
      "text/plain": [
       "<Figure size 640x480 with 1 Axes>"
      ]
     },
     "metadata": {},
     "output_type": "display_data"
    }
   ],
   "source": [
    "# plot accuracy and loss\n",
    "import matplotlib.pyplot as plt\n",
    "\n",
    "plt.plot(history.history['accuracy'])\n",
    "plt.plot(history.history['val_accuracy'])\n",
    "\n",
    "plt.title('model accuracy')\n",
    "plt.ylabel('accuracy')\n",
    "plt.xlabel('epoch')\n",
    "plt.legend(['train', 'val'], loc='upper left')\n",
    "plt.show()\n"
   ]
  },
  {
   "cell_type": "code",
   "execution_count": 18,
   "id": "670e77aa",
   "metadata": {
    "execution": {
     "iopub.execute_input": "2023-10-15T09:16:49.147744Z",
     "iopub.status.busy": "2023-10-15T09:16:49.147435Z",
     "iopub.status.idle": "2023-10-15T09:16:49.543765Z",
     "shell.execute_reply": "2023-10-15T09:16:49.542667Z"
    },
    "papermill": {
     "duration": 0.598541,
     "end_time": "2023-10-15T09:16:49.546214",
     "exception": false,
     "start_time": "2023-10-15T09:16:48.947673",
     "status": "completed"
    },
    "tags": []
   },
   "outputs": [],
   "source": [
    "model.save('model_avg_25.h5')"
   ]
  }
 ],
 "metadata": {
  "kernelspec": {
   "display_name": "Python 3",
   "language": "python",
   "name": "python3"
  },
  "language_info": {
   "codemirror_mode": {
    "name": "ipython",
    "version": 3
   },
   "file_extension": ".py",
   "mimetype": "text/x-python",
   "name": "python",
   "nbconvert_exporter": "python",
   "pygments_lexer": "ipython3",
   "version": "3.10.12"
  },
  "papermill": {
   "default_parameters": {},
   "duration": 12376.115345,
   "end_time": "2023-10-15T09:16:52.601783",
   "environment_variables": {},
   "exception": null,
   "input_path": "__notebook__.ipynb",
   "output_path": "__notebook__.ipynb",
   "parameters": {},
   "start_time": "2023-10-15T05:50:36.486438",
   "version": "2.4.0"
  }
 },
 "nbformat": 4,
 "nbformat_minor": 5
}
